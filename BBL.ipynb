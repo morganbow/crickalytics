{
 "cells": [
  {
   "cell_type": "markdown",
   "metadata": {},
   "source": [
    "# Betting at the end of every over"
   ]
  },
  {
   "cell_type": "code",
   "execution_count": 4,
   "metadata": {},
   "outputs": [
    {
     "name": "stdout",
     "output_type": "stream",
     "text": [
      "Success rate: 71.4 %\n",
      "Average winnings per game(£100 bet): £22.47\n",
      "Average winnings per game betting after the toss(£100 bet): £23.61\n",
      "Profit per game: -12.52 %\n",
      "Profit per game if sr=85%: 4.1 %\n",
      "Profit per game if sr=90%: 10.22 %\n",
      "Profit per game if sr=95%: 16.35 %\n",
      "Success rate to break even: 81.7 %\n"
     ]
    }
   ],
   "source": [
    "sr = 35/49\n",
    "awpg = (14+30+10+10+10+10+10+60+10+30+10+30+75+10+25+50+37.5+25+15+20+10+10+20+10+10+50+10+37.5+20+5+10+30+37.5+20+15)/35\n",
    "awpgatb = (50+10+37.5+10+15+10+50+20+10)/9\n",
    "pppg = sr*awpg-(1-sr)*100\n",
    "pppg85 = .85*awpg-(1-.85)*100\n",
    "pppg90 = .9*awpg-(1-.9)*100\n",
    "pppg95 = .95*awpg-(1-.95)*100\n",
    "besr = 100/(awpg+100)\n",
    "\n",
    "print(\"Success rate:\", round(sr*100,1),\"%\")\n",
    "print(\"Average winnings per game(£100 bet):\", \"£\"+str(round(awpg,2)))\n",
    "print(\"Average winnings per game betting after the toss(£100 bet):\", \"£\"+str(round(awpgatb,2)))\n",
    "print(\"Profit per game:\", round(pppg,2),\"%\")\n",
    "print(\"Profit per game if sr=85%:\", round(pppg85,2),\"%\")\n",
    "print(\"Profit per game if sr=90%:\", round(pppg90,2),\"%\")\n",
    "print(\"Profit per game if sr=95%:\", round(pppg95,2),\"%\")\n",
    "print(\"Success rate to break even:\", round(besr*100,1),\"%\")"
   ]
  },
  {
   "cell_type": "markdown",
   "metadata": {},
   "source": [
    "# Betting every ball"
   ]
  },
  {
   "cell_type": "code",
   "execution_count": 5,
   "metadata": {},
   "outputs": [
    {
     "name": "stdout",
     "output_type": "stream",
     "text": [
      "Success rate: 78.9 %\n",
      "Average winnings per game(£100 bet): £20.83\n",
      "Average winnings per game betting after the toss(£100 bet): £23.18\n",
      "Profit per game: -4.61 %\n",
      "Profit per game if sr=85%: 2.71 %\n",
      "Profit per game if sr=90%: 8.75 %\n",
      "Profit per game if sr=95%: 14.79 %\n",
      "Success rate to break even: 82.8 %\n"
     ]
    }
   ],
   "source": [
    "sr = 15/19\n",
    "awpg = (5+20+10+50+10+50+20+5+10+30+37.5+10+20+20+15)/15\n",
    "awpgatb = (50+10+50+10+15+10+50+10+20+20+10)/11\n",
    "pppg = sr*awpg-(1-sr)*100\n",
    "pppg85 = .85*awpg-(1-.85)*100\n",
    "pppg90 = .9*awpg-(1-.9)*100\n",
    "pppg95 = .95*awpg-(1-.95)*100\n",
    "besr = 100/(awpg+100)\n",
    "\n",
    "print(\"Success rate:\", round(sr*100,1),\"%\")\n",
    "print(\"Average winnings per game(£100 bet):\", \"£\"+str(round(awpg,2)))\n",
    "print(\"Average winnings per game betting after the toss(£100 bet):\", \"£\"+str(round(awpgatb,2)))\n",
    "print(\"Profit per game:\", round(pppg,2),\"%\")\n",
    "print(\"Profit per game if sr=85%:\", round(pppg85,2),\"%\")\n",
    "print(\"Profit per game if sr=90%:\", round(pppg90,2),\"%\")\n",
    "print(\"Profit per game if sr=95%:\", round(pppg95,2),\"%\")\n",
    "print(\"Success rate to break even:\", round(besr*100,1),\"%\")"
   ]
  },
  {
   "cell_type": "code",
   "execution_count": 41,
   "metadata": {},
   "outputs": [
    {
     "data": {
      "text/html": [
       "<div>\n",
       "<style scoped>\n",
       "    .dataframe tbody tr th:only-of-type {\n",
       "        vertical-align: middle;\n",
       "    }\n",
       "\n",
       "    .dataframe tbody tr th {\n",
       "        vertical-align: top;\n",
       "    }\n",
       "\n",
       "    .dataframe thead th {\n",
       "        text-align: right;\n",
       "    }\n",
       "</style>\n",
       "<table border=\"1\" class=\"dataframe\">\n",
       "  <thead>\n",
       "    <tr style=\"text-align: right;\">\n",
       "      <th></th>\n",
       "      <th>Fave</th>\n",
       "      <th>Other</th>\n",
       "      <th>form fave</th>\n",
       "      <th>form other</th>\n",
       "      <th>Stadium</th>\n",
       "      <th>Weather</th>\n",
       "      <th>Time</th>\n",
       "      <th>favourites odds</th>\n",
       "      <th>other odds</th>\n",
       "      <th>fave ave 1</th>\n",
       "      <th>...</th>\n",
       "      <th>other econ 2</th>\n",
       "      <th>other bsr 2</th>\n",
       "      <th>other econ 3</th>\n",
       "      <th>other bsr 3</th>\n",
       "      <th>other econ form</th>\n",
       "      <th>other wicket form</th>\n",
       "      <th>Fave 140+ sr</th>\n",
       "      <th>Other 140+ sr</th>\n",
       "      <th>fave bat 1st</th>\n",
       "      <th>bet</th>\n",
       "    </tr>\n",
       "  </thead>\n",
       "  <tbody>\n",
       "    <tr>\n",
       "      <th>43</th>\n",
       "      <td>SS</td>\n",
       "      <td>MS</td>\n",
       "      <td>lwwwl</td>\n",
       "      <td>lwwwl</td>\n",
       "      <td>MCG</td>\n",
       "      <td>cloud</td>\n",
       "      <td>N</td>\n",
       "      <td>0.85</td>\n",
       "      <td>1.00</td>\n",
       "      <td>33.25</td>\n",
       "      <td>...</td>\n",
       "      <td>6.99</td>\n",
       "      <td>18.6</td>\n",
       "      <td>7.31</td>\n",
       "      <td>17.8</td>\n",
       "      <td>7.17</td>\n",
       "      <td>1.00</td>\n",
       "      <td>1</td>\n",
       "      <td>1</td>\n",
       "      <td>0</td>\n",
       "      <td>1</td>\n",
       "    </tr>\n",
       "    <tr>\n",
       "      <th>44</th>\n",
       "      <td>BH</td>\n",
       "      <td>AS</td>\n",
       "      <td>wwllw</td>\n",
       "      <td>lwwlw</td>\n",
       "      <td>BCG</td>\n",
       "      <td>cloud</td>\n",
       "      <td>N</td>\n",
       "      <td>0.85</td>\n",
       "      <td>1.00</td>\n",
       "      <td>32.36</td>\n",
       "      <td>...</td>\n",
       "      <td>8.45</td>\n",
       "      <td>19.3</td>\n",
       "      <td>7.35</td>\n",
       "      <td>19.0</td>\n",
       "      <td>7.89</td>\n",
       "      <td>1.00</td>\n",
       "      <td>3</td>\n",
       "      <td>1</td>\n",
       "      <td>0</td>\n",
       "      <td>0</td>\n",
       "    </tr>\n",
       "    <tr>\n",
       "      <th>45</th>\n",
       "      <td>PS</td>\n",
       "      <td>SS</td>\n",
       "      <td>lwwwl</td>\n",
       "      <td>wlwww</td>\n",
       "      <td>Manuka</td>\n",
       "      <td>fair</td>\n",
       "      <td>N</td>\n",
       "      <td>0.85</td>\n",
       "      <td>1.00</td>\n",
       "      <td>27.72</td>\n",
       "      <td>...</td>\n",
       "      <td>6.84</td>\n",
       "      <td>22.2</td>\n",
       "      <td>7.99</td>\n",
       "      <td>17.6</td>\n",
       "      <td>8.39</td>\n",
       "      <td>1.00</td>\n",
       "      <td>4</td>\n",
       "      <td>1</td>\n",
       "      <td>1</td>\n",
       "      <td>0</td>\n",
       "    </tr>\n",
       "    <tr>\n",
       "      <th>46</th>\n",
       "      <td>ST</td>\n",
       "      <td>BH</td>\n",
       "      <td>wlwll</td>\n",
       "      <td>wwwll</td>\n",
       "      <td>Manuka</td>\n",
       "      <td>cloud</td>\n",
       "      <td>N</td>\n",
       "      <td>0.73</td>\n",
       "      <td>1.15</td>\n",
       "      <td>29.44</td>\n",
       "      <td>...</td>\n",
       "      <td>8.93</td>\n",
       "      <td>16.5</td>\n",
       "      <td>8.10</td>\n",
       "      <td>17.5</td>\n",
       "      <td>7.78</td>\n",
       "      <td>0.33</td>\n",
       "      <td>2</td>\n",
       "      <td>2</td>\n",
       "      <td>1</td>\n",
       "      <td>1</td>\n",
       "    </tr>\n",
       "    <tr>\n",
       "      <th>47</th>\n",
       "      <td>PS</td>\n",
       "      <td>BH</td>\n",
       "      <td>llwww</td>\n",
       "      <td>wwwwl</td>\n",
       "      <td>Manuka</td>\n",
       "      <td>cloud</td>\n",
       "      <td>N</td>\n",
       "      <td>0.70</td>\n",
       "      <td>1.20</td>\n",
       "      <td>27.72</td>\n",
       "      <td>...</td>\n",
       "      <td>8.93</td>\n",
       "      <td>16.5</td>\n",
       "      <td>8.10</td>\n",
       "      <td>17.5</td>\n",
       "      <td>6.67</td>\n",
       "      <td>0.33</td>\n",
       "      <td>4</td>\n",
       "      <td>2</td>\n",
       "      <td>1</td>\n",
       "      <td>0</td>\n",
       "    </tr>\n",
       "  </tbody>\n",
       "</table>\n",
       "<p>5 rows × 53 columns</p>\n",
       "</div>"
      ],
      "text/plain": [
       "   Fave Other form fave form other Stadium Weather Time  favourites odds  \\\n",
       "43   SS    MS     lwwwl      lwwwl     MCG   cloud    N             0.85   \n",
       "44   BH    AS     wwllw      lwwlw     BCG   cloud    N             0.85   \n",
       "45   PS    SS     lwwwl      wlwww  Manuka    fair    N             0.85   \n",
       "46   ST    BH     wlwll      wwwll  Manuka   cloud    N             0.73   \n",
       "47   PS    BH     llwww      wwwwl  Manuka   cloud    N             0.70   \n",
       "\n",
       "    other odds  fave ave 1  ...  other econ 2  other bsr 2  other econ 3  \\\n",
       "43        1.00       33.25  ...          6.99         18.6          7.31   \n",
       "44        1.00       32.36  ...          8.45         19.3          7.35   \n",
       "45        1.00       27.72  ...          6.84         22.2          7.99   \n",
       "46        1.15       29.44  ...          8.93         16.5          8.10   \n",
       "47        1.20       27.72  ...          8.93         16.5          8.10   \n",
       "\n",
       "    other bsr 3  other econ form  other wicket form  Fave 140+ sr  \\\n",
       "43         17.8             7.17               1.00             1   \n",
       "44         19.0             7.89               1.00             3   \n",
       "45         17.6             8.39               1.00             4   \n",
       "46         17.5             7.78               0.33             2   \n",
       "47         17.5             6.67               0.33             4   \n",
       "\n",
       "    Other 140+ sr  fave bat 1st  bet  \n",
       "43              1             0    1  \n",
       "44              1             0    0  \n",
       "45              1             1    0  \n",
       "46              2             1    1  \n",
       "47              2             1    0  \n",
       "\n",
       "[5 rows x 53 columns]"
      ]
     },
     "execution_count": 41,
     "metadata": {},
     "output_type": "execute_result"
    }
   ],
   "source": [
    "import pandas as pd\n",
    "df = pd.read_csv(\"algo_data.csv\")\n",
    "df.tail()"
   ]
  },
  {
   "cell_type": "code",
   "execution_count": 42,
   "metadata": {},
   "outputs": [
    {
     "data": {
      "text/html": [
       "<div>\n",
       "<style scoped>\n",
       "    .dataframe tbody tr th:only-of-type {\n",
       "        vertical-align: middle;\n",
       "    }\n",
       "\n",
       "    .dataframe tbody tr th {\n",
       "        vertical-align: top;\n",
       "    }\n",
       "\n",
       "    .dataframe thead th {\n",
       "        text-align: right;\n",
       "    }\n",
       "</style>\n",
       "<table border=\"1\" class=\"dataframe\">\n",
       "  <thead>\n",
       "    <tr style=\"text-align: right;\">\n",
       "      <th></th>\n",
       "      <th>favourites odds</th>\n",
       "      <th>other odds</th>\n",
       "      <th>fave ave 1</th>\n",
       "      <th>fave sr 1</th>\n",
       "      <th>fave ave form 1</th>\n",
       "      <th>fave sr form 1</th>\n",
       "      <th>fave ave 2</th>\n",
       "      <th>fave sr 2</th>\n",
       "      <th>fave ave form 2</th>\n",
       "      <th>fave sr form 2</th>\n",
       "      <th>...</th>\n",
       "      <th>other econ 2</th>\n",
       "      <th>other bsr 2</th>\n",
       "      <th>other econ 3</th>\n",
       "      <th>other bsr 3</th>\n",
       "      <th>other econ form</th>\n",
       "      <th>other wicket form</th>\n",
       "      <th>Fave 140+ sr</th>\n",
       "      <th>Other 140+ sr</th>\n",
       "      <th>fave bat 1st</th>\n",
       "      <th>bet</th>\n",
       "    </tr>\n",
       "  </thead>\n",
       "  <tbody>\n",
       "    <tr>\n",
       "      <th>count</th>\n",
       "      <td>48.000000</td>\n",
       "      <td>48.000000</td>\n",
       "      <td>48.000000</td>\n",
       "      <td>48.000000</td>\n",
       "      <td>48.000000</td>\n",
       "      <td>48.000000</td>\n",
       "      <td>48.000000</td>\n",
       "      <td>48.000000</td>\n",
       "      <td>48.000000</td>\n",
       "      <td>48.000000</td>\n",
       "      <td>...</td>\n",
       "      <td>48.000000</td>\n",
       "      <td>48.000000</td>\n",
       "      <td>48.000000</td>\n",
       "      <td>48.000000</td>\n",
       "      <td>48.000000</td>\n",
       "      <td>48.000000</td>\n",
       "      <td>48.000000</td>\n",
       "      <td>48.000000</td>\n",
       "      <td>48.000000</td>\n",
       "      <td>48.000000</td>\n",
       "    </tr>\n",
       "    <tr>\n",
       "      <th>mean</th>\n",
       "      <td>0.771042</td>\n",
       "      <td>1.202083</td>\n",
       "      <td>28.643542</td>\n",
       "      <td>133.966458</td>\n",
       "      <td>24.791875</td>\n",
       "      <td>131.465625</td>\n",
       "      <td>27.569375</td>\n",
       "      <td>134.586875</td>\n",
       "      <td>31.232500</td>\n",
       "      <td>135.723750</td>\n",
       "      <td>...</td>\n",
       "      <td>7.810208</td>\n",
       "      <td>20.270833</td>\n",
       "      <td>8.401875</td>\n",
       "      <td>18.102083</td>\n",
       "      <td>7.594167</td>\n",
       "      <td>1.371667</td>\n",
       "      <td>2.666667</td>\n",
       "      <td>1.875000</td>\n",
       "      <td>0.500000</td>\n",
       "      <td>0.729167</td>\n",
       "    </tr>\n",
       "    <tr>\n",
       "      <th>std</th>\n",
       "      <td>0.100620</td>\n",
       "      <td>0.155983</td>\n",
       "      <td>3.847712</td>\n",
       "      <td>10.898546</td>\n",
       "      <td>12.945581</td>\n",
       "      <td>25.849758</td>\n",
       "      <td>5.441864</td>\n",
       "      <td>12.310214</td>\n",
       "      <td>15.720511</td>\n",
       "      <td>34.052173</td>\n",
       "      <td>...</td>\n",
       "      <td>0.724203</td>\n",
       "      <td>3.379661</td>\n",
       "      <td>1.447223</td>\n",
       "      <td>2.792961</td>\n",
       "      <td>1.165319</td>\n",
       "      <td>0.755748</td>\n",
       "      <td>1.172982</td>\n",
       "      <td>0.841099</td>\n",
       "      <td>0.505291</td>\n",
       "      <td>0.449093</td>\n",
       "    </tr>\n",
       "    <tr>\n",
       "      <th>min</th>\n",
       "      <td>0.570000</td>\n",
       "      <td>1.000000</td>\n",
       "      <td>13.880000</td>\n",
       "      <td>102.450000</td>\n",
       "      <td>4.330000</td>\n",
       "      <td>74.070000</td>\n",
       "      <td>13.720000</td>\n",
       "      <td>101.640000</td>\n",
       "      <td>9.330000</td>\n",
       "      <td>75.000000</td>\n",
       "      <td>...</td>\n",
       "      <td>6.510000</td>\n",
       "      <td>15.300000</td>\n",
       "      <td>6.510000</td>\n",
       "      <td>10.200000</td>\n",
       "      <td>5.560000</td>\n",
       "      <td>0.000000</td>\n",
       "      <td>1.000000</td>\n",
       "      <td>1.000000</td>\n",
       "      <td>0.000000</td>\n",
       "      <td>0.000000</td>\n",
       "    </tr>\n",
       "    <tr>\n",
       "      <th>25%</th>\n",
       "      <td>0.700000</td>\n",
       "      <td>1.100000</td>\n",
       "      <td>27.190000</td>\n",
       "      <td>127.780000</td>\n",
       "      <td>12.670000</td>\n",
       "      <td>111.777500</td>\n",
       "      <td>26.980000</td>\n",
       "      <td>132.050000</td>\n",
       "      <td>17.750000</td>\n",
       "      <td>109.447500</td>\n",
       "      <td>...</td>\n",
       "      <td>7.292500</td>\n",
       "      <td>17.900000</td>\n",
       "      <td>8.005000</td>\n",
       "      <td>16.500000</td>\n",
       "      <td>6.670000</td>\n",
       "      <td>0.670000</td>\n",
       "      <td>2.000000</td>\n",
       "      <td>1.000000</td>\n",
       "      <td>0.000000</td>\n",
       "      <td>0.000000</td>\n",
       "    </tr>\n",
       "    <tr>\n",
       "      <th>50%</th>\n",
       "      <td>0.800000</td>\n",
       "      <td>1.150000</td>\n",
       "      <td>27.720000</td>\n",
       "      <td>138.420000</td>\n",
       "      <td>25.165000</td>\n",
       "      <td>133.790000</td>\n",
       "      <td>29.110000</td>\n",
       "      <td>140.230000</td>\n",
       "      <td>29.170000</td>\n",
       "      <td>129.515000</td>\n",
       "      <td>...</td>\n",
       "      <td>8.025000</td>\n",
       "      <td>18.850000</td>\n",
       "      <td>8.270000</td>\n",
       "      <td>17.650000</td>\n",
       "      <td>7.500000</td>\n",
       "      <td>1.330000</td>\n",
       "      <td>3.000000</td>\n",
       "      <td>2.000000</td>\n",
       "      <td>0.500000</td>\n",
       "      <td>1.000000</td>\n",
       "    </tr>\n",
       "    <tr>\n",
       "      <th>75%</th>\n",
       "      <td>0.800000</td>\n",
       "      <td>1.300000</td>\n",
       "      <td>29.440000</td>\n",
       "      <td>142.820000</td>\n",
       "      <td>35.250000</td>\n",
       "      <td>148.560000</td>\n",
       "      <td>32.360000</td>\n",
       "      <td>143.140000</td>\n",
       "      <td>43.835000</td>\n",
       "      <td>156.657500</td>\n",
       "      <td>...</td>\n",
       "      <td>8.280000</td>\n",
       "      <td>24.000000</td>\n",
       "      <td>8.850000</td>\n",
       "      <td>20.000000</td>\n",
       "      <td>8.390000</td>\n",
       "      <td>2.000000</td>\n",
       "      <td>4.000000</td>\n",
       "      <td>2.000000</td>\n",
       "      <td>1.000000</td>\n",
       "      <td>1.000000</td>\n",
       "    </tr>\n",
       "    <tr>\n",
       "      <th>max</th>\n",
       "      <td>1.000000</td>\n",
       "      <td>1.700000</td>\n",
       "      <td>36.010000</td>\n",
       "      <td>153.570000</td>\n",
       "      <td>56.000000</td>\n",
       "      <td>187.500000</td>\n",
       "      <td>36.010000</td>\n",
       "      <td>153.570000</td>\n",
       "      <td>67.500000</td>\n",
       "      <td>218.840000</td>\n",
       "      <td>...</td>\n",
       "      <td>8.930000</td>\n",
       "      <td>26.000000</td>\n",
       "      <td>16.500000</td>\n",
       "      <td>25.100000</td>\n",
       "      <td>10.670000</td>\n",
       "      <td>3.000000</td>\n",
       "      <td>4.000000</td>\n",
       "      <td>4.000000</td>\n",
       "      <td>1.000000</td>\n",
       "      <td>1.000000</td>\n",
       "    </tr>\n",
       "  </tbody>\n",
       "</table>\n",
       "<p>8 rows × 46 columns</p>\n",
       "</div>"
      ],
      "text/plain": [
       "       favourites odds  other odds  fave ave 1   fave sr 1  fave ave form 1  \\\n",
       "count        48.000000   48.000000   48.000000   48.000000        48.000000   \n",
       "mean          0.771042    1.202083   28.643542  133.966458        24.791875   \n",
       "std           0.100620    0.155983    3.847712   10.898546        12.945581   \n",
       "min           0.570000    1.000000   13.880000  102.450000         4.330000   \n",
       "25%           0.700000    1.100000   27.190000  127.780000        12.670000   \n",
       "50%           0.800000    1.150000   27.720000  138.420000        25.165000   \n",
       "75%           0.800000    1.300000   29.440000  142.820000        35.250000   \n",
       "max           1.000000    1.700000   36.010000  153.570000        56.000000   \n",
       "\n",
       "       fave sr form 1  fave ave 2   fave sr 2  fave ave form 2  \\\n",
       "count       48.000000   48.000000   48.000000        48.000000   \n",
       "mean       131.465625   27.569375  134.586875        31.232500   \n",
       "std         25.849758    5.441864   12.310214        15.720511   \n",
       "min         74.070000   13.720000  101.640000         9.330000   \n",
       "25%        111.777500   26.980000  132.050000        17.750000   \n",
       "50%        133.790000   29.110000  140.230000        29.170000   \n",
       "75%        148.560000   32.360000  143.140000        43.835000   \n",
       "max        187.500000   36.010000  153.570000        67.500000   \n",
       "\n",
       "       fave sr form 2  ...  other econ 2  other bsr 2  other econ 3  \\\n",
       "count       48.000000  ...     48.000000    48.000000     48.000000   \n",
       "mean       135.723750  ...      7.810208    20.270833      8.401875   \n",
       "std         34.052173  ...      0.724203     3.379661      1.447223   \n",
       "min         75.000000  ...      6.510000    15.300000      6.510000   \n",
       "25%        109.447500  ...      7.292500    17.900000      8.005000   \n",
       "50%        129.515000  ...      8.025000    18.850000      8.270000   \n",
       "75%        156.657500  ...      8.280000    24.000000      8.850000   \n",
       "max        218.840000  ...      8.930000    26.000000     16.500000   \n",
       "\n",
       "       other bsr 3  other econ form  other wicket form  Fave 140+ sr  \\\n",
       "count    48.000000        48.000000          48.000000     48.000000   \n",
       "mean     18.102083         7.594167           1.371667      2.666667   \n",
       "std       2.792961         1.165319           0.755748      1.172982   \n",
       "min      10.200000         5.560000           0.000000      1.000000   \n",
       "25%      16.500000         6.670000           0.670000      2.000000   \n",
       "50%      17.650000         7.500000           1.330000      3.000000   \n",
       "75%      20.000000         8.390000           2.000000      4.000000   \n",
       "max      25.100000        10.670000           3.000000      4.000000   \n",
       "\n",
       "       Other 140+ sr  fave bat 1st        bet  \n",
       "count      48.000000     48.000000  48.000000  \n",
       "mean        1.875000      0.500000   0.729167  \n",
       "std         0.841099      0.505291   0.449093  \n",
       "min         1.000000      0.000000   0.000000  \n",
       "25%         1.000000      0.000000   0.000000  \n",
       "50%         2.000000      0.500000   1.000000  \n",
       "75%         2.000000      1.000000   1.000000  \n",
       "max         4.000000      1.000000   1.000000  \n",
       "\n",
       "[8 rows x 46 columns]"
      ]
     },
     "execution_count": 42,
     "metadata": {},
     "output_type": "execute_result"
    }
   ],
   "source": [
    "df.describe()"
   ]
  },
  {
   "cell_type": "markdown",
   "metadata": {},
   "source": [
    "# Turning the form guide into lists"
   ]
  },
  {
   "cell_type": "code",
   "execution_count": 43,
   "metadata": {},
   "outputs": [],
   "source": [
    "import warnings\n",
    "import numpy as np\n",
    "warnings.filterwarnings(\"ignore\")\n",
    "\n",
    "for i in range(len(df[\"form fave\"])):\n",
    "    form = []\n",
    "    for j in df[\"form fave\"][i]:\n",
    "        if j == 'w':\n",
    "            form.append(1)\n",
    "        elif j == 'l':\n",
    "            form.append(0)\n",
    "        else:\n",
    "            form.append(0.5)\n",
    "    df[\"form fave\"][i] = form        \n",
    "for i in range(len(df[\"form other\"])):\n",
    "    form = []\n",
    "    for j in df[\"form other\"][i]:\n",
    "        if j == 'w':\n",
    "            form.append(1)\n",
    "        elif j == 'l':\n",
    "            form.append(0)\n",
    "        else:\n",
    "            form.append(0.5)\n",
    "    df[\"form other\"][i] = form\n",
    "warnings.filterwarnings(\"default\")\n",
    "form_values = np.array([[1,1,1,1,1],[3,2,1,1,1],[3,2,2,1,1],[3,3,2,2,1],[4,3,2,1,1],[4,3,2,2,1],[5,4,3,2,1],[5,3,1,1,1]])\n",
    "form_game_scores = np.zeros(len(form_values)*5*len(df)).reshape(len(form_values),5,len(df))\n",
    "form_scores = np.zeros(len(form_values)*len(df)).reshape(len(df),len(form_values))\n",
    "for i in range(len(df)):\n",
    "    for j in range(len(form_values)):\n",
    "        for k in range(5):\n",
    "            form_game_scores[j,k,i] = form_values[j,k] * df['form fave'][i][k]\n",
    "        form_scores[i,j] = sum(form_game_scores[j,:,i])\n",
    "form_values = np.array([[1,1,1,1,1],[3,2,1,1,1],[3,2,2,1,1],[3,3,2,2,1],[4,3,2,1,1],[4,3,2,2,1],[5,4,3,2,1],[5,3,1,1,1]])\n",
    "form_game_scores = np.zeros(len(form_values)*5*len(df)).reshape(len(form_values),5,len(df))\n",
    "form_scores_other = np.zeros(len(form_values)*len(df)).reshape(len(df),len(form_values))\n",
    "for i in range(len(df)):\n",
    "    for j in range(len(form_values)):\n",
    "        for k in range(5):\n",
    "            form_game_scores[j,k,i] = form_values[j,k] * df['form other'][i][k]\n",
    "        form_scores_other[i,j] = sum(form_game_scores[j,:,i])\n",
    "form_difference = form_scores-form_scores_other"
   ]
  },
  {
   "cell_type": "code",
   "execution_count": 44,
   "metadata": {},
   "outputs": [],
   "source": [
    "def correct1_accuracy(y_predict,y):\n",
    "    \"\"\"\n",
    "    Calculate the accuracy of predciting 1\n",
    "    \"\"\"\n",
    "    score = 0\n",
    "    for i in range(sum(y==1)):  \n",
    "        if y_predict[y==1][i]==1:\n",
    "            score+=1\n",
    "    if sum(y_predict==1) == 0:\n",
    "        return 0\n",
    "    else:\n",
    "        return score/sum(y_predict==1)"
   ]
  },
  {
   "cell_type": "markdown",
   "metadata": {},
   "source": [
    "# SVM"
   ]
  },
  {
   "cell_type": "code",
   "execution_count": 110,
   "metadata": {
    "scrolled": true
   },
   "outputs": [
    {
     "name": "stdout",
     "output_type": "stream",
     "text": [
      "[0 0 0 0 0 0 0 0 0 0 0 0 0 0 0]\n",
      "[0 0 0 0 0 0 0 0 0 0 0 0 0 0 0]\n",
      "[0 0 0 0 0 0 0 0 0 0 0 0 0 0 0]\n",
      "[0 0 0 0 0 0 0 0 0 0 0 0 0 0 0]\n",
      "[0 0 0 0 0 0 0 0 0 0 0 0 0 0 0]\n",
      "[0 0 0 0 0 0 0 0 0 0 0 0 0 0 0]\n",
      "[0 0 0 0 0 0 0 0 0 0 0 0 0 0 0]\n",
      "[0 0 0 0 0 0 0 0 0 0 0 0 0 0 0]\n"
     ]
    }
   ],
   "source": [
    "from sklearn.model_selection import train_test_split\n",
    "from sklearn.pipeline import make_pipeline\n",
    "from sklearn.preprocessing import MinMaxScaler, StandardScaler, RobustScaler, Normalizer\n",
    "from sklearn.model_selection import GridSearchCV\n",
    "from sklearn.svm import SVC\n",
    "param_grid ={'svc__C': [0.001,0.01, 0.1, 1, 10, 100],\n",
    "    'svc__gamma': [0.001, 0.01, 0.1, 1, 10, 100]}\n",
    "train_score = []\n",
    "test_score = []\n",
    "test_score41s= []\n",
    "for l in range(len(form_values)):    \n",
    "    df = pd.read_csv(\"algo_data.csv\")\n",
    "    df.insert(2, \"form fave score\", form_scores[:,l], True) \n",
    "    df.insert(2, \"form other score\", form_scores_other[:,l], True) \n",
    "    del df['form fave']\n",
    "    del df['form other']\n",
    "    df = pd.get_dummies(df)\n",
    "    y = df.pop('bet')\n",
    "    X = df\n",
    "    X_train, X_test, y_train, y_test = train_test_split(X, y, train_size=0.7, random_state=1504)\n",
    "    pipe = make_pipeline(StandardScaler(), SVC(class_weight='balanced'))\n",
    "    grid = GridSearchCV(pipe, param_grid=param_grid, cv=3, iid='True')\n",
    "    grid.fit(X_train, y_train)\n",
    "    train_score.append(grid.score(X_train,y_train))\n",
    "    test_score.append(grid.score(X_test,y_test))\n",
    "    test_score41s.append(correct1_accuracy(grid.predict(X_test),y_test))\n",
    "    print(grid.predict(X_test))"
   ]
  },
  {
   "cell_type": "code",
   "execution_count": 111,
   "metadata": {},
   "outputs": [
    {
     "name": "stdout",
     "output_type": "stream",
     "text": [
      "Training set accuracy: 0.24242424242424243\n",
      "Test set accuracy: 0.3333333333333333\n",
      "Test set prediction of 1 accuracy: 0.0\n"
     ]
    }
   ],
   "source": [
    "print('Training set accuracy:',max(train_score))\n",
    "print('Test set accuracy:',max(test_score))\n",
    "print('Test set prediction of 1 accuracy:', max(test_score41s))"
   ]
  },
  {
   "cell_type": "markdown",
   "metadata": {},
   "source": [
    "# Logistic Regression"
   ]
  },
  {
   "cell_type": "code",
   "execution_count": 112,
   "metadata": {},
   "outputs": [],
   "source": [
    "warnings.filterwarnings(\"ignore\")\n",
    "from sklearn.linear_model import LogisticRegression\n",
    "train_score = []\n",
    "test_score = []\n",
    "test_score41s = []\n",
    "for l in range(len(form_values)):    \n",
    "    df = pd.read_csv(\"algo_data.csv\")\n",
    "    df.insert(2, \"form fave score\", form_scores[:,l], True) \n",
    "    df.insert(2, \"form other score\", form_scores_other[:,l], True) \n",
    "    del df['form fave']\n",
    "    del df['form other']\n",
    "    df = pd.get_dummies(df)\n",
    "    y = df.pop('bet')\n",
    "    X = df\n",
    "    X_train, X_test, y_train, y_test = train_test_split(X, y, train_size=0.5, random_state=1504)\n",
    "    pipe = make_pipeline(Normalizer(), LogisticRegression(class_weight='balanced',random_state=1504))\n",
    "    pipe.fit(X_train, y_train)\n",
    "    train_score.append(pipe.score(X_train,y_train))\n",
    "    test_score.append(pipe.score(X_test,y_test))\n",
    "    test_score41s.append(correct1_accuracy(grid.predict(X_test),y_test))\n",
    "warnings.filterwarnings(\"default\")"
   ]
  },
  {
   "cell_type": "code",
   "execution_count": 113,
   "metadata": {},
   "outputs": [
    {
     "name": "stdout",
     "output_type": "stream",
     "text": [
      "Training set accuracy: 0.7083333333333334\n",
      "Test set accuracy: 0.5\n",
      "Test set prediction of 1 accuracy: 0.0\n"
     ]
    }
   ],
   "source": [
    "print('Training set accuracy:',max(train_score))\n",
    "print('Test set accuracy:',max(test_score))\n",
    "print('Test set prediction of 1 accuracy:', max(test_score41s))"
   ]
  },
  {
   "cell_type": "code",
   "execution_count": 77,
   "metadata": {},
   "outputs": [
    {
     "data": {
      "image/png": "[encoded data removed]",
      "text/plain": [
       "<Figure size 432x288 with 1 Axes>"
      ]
     },
     "metadata": {
      "needs_background": "light"
     },
     "output_type": "display_data"
    }
   ],
   "source": [
    "import matplotlib.pyplot as plt\n",
    "plt.scatter(df['fave sr form 1'][y==0]+df['fave sr form 2'][y==0]+(df['fave sr form 3'][y==0]*0.5),df['fave econ form'][y==0]*df['fave wicket form'][y==0] , color='r')\n",
    "plt.scatter(df['fave sr form 1'][y==1]+df['fave sr form 2'][y==1]+(df['fave sr form 3'][y==1]*0.5),df['fave econ form'][y==1]*df['fave wicket form'][y==1] , color='b')\n",
    "plt.xlabel('Strike rate form')\n",
    "plt.ylabel('bowling form')\n",
    "plt.title('Favourites')\n",
    "plt.show()"
   ]
  },
  {
   "cell_type": "code",
   "execution_count": 78,
   "metadata": {},
   "outputs": [
    {
     "data": {
      "image/png": "[encoded data removed]",
      "text/plain": [
       "<Figure size 432x288 with 1 Axes>"
      ]
     },
     "metadata": {
      "needs_background": "light"
     },
     "output_type": "display_data"
    }
   ],
   "source": [
    "plt.scatter(df['other sr form 1'][y==0]+df['other sr form 2'][y==0]+(df['other sr form 3'][y==0]*0.5),df['other econ form'][y==0]*df['other wicket form'][y==0] , color='r')\n",
    "plt.scatter(df['other sr form 1'][y==1]+df['other sr form 2'][y==1]+(df['other sr form 3'][y==1]*0.5),df['other econ form'][y==1]*df['other wicket form'][y==1] , color='b')\n",
    "plt.xlabel('Strike rate form')\n",
    "plt.ylabel('bowling form')\n",
    "plt.title('Others')\n",
    "plt.show()"
   ]
  },
  {
   "cell_type": "markdown",
   "metadata": {},
   "source": [
    "# Looking into relevant variables with Lasso"
   ]
  },
  {
   "cell_type": "code",
   "execution_count": 79,
   "metadata": {},
   "outputs": [
    {
     "name": "stdout",
     "output_type": "stream",
     "text": [
      "The training R squared and test R squared are:  0.18709356160628843 , -0.08573583613758284\n",
      "This model uses  8 features. They're listed below:\n",
      "6\n",
      "10\n",
      "11\n",
      "13\n",
      "15\n",
      "19\n",
      "21\n",
      "27\n"
     ]
    }
   ],
   "source": [
    "from sklearn.linear_model import Lasso\n",
    "lasso = Lasso().fit(X_train,y_train)\n",
    "training_R_sqr = lasso.score(X_train,y_train)\n",
    "test_R_sqr = lasso.score(X_test,y_test)\n",
    "\n",
    "nr_of_coeff = sum(0 != lasso.coef_)\n",
    "\n",
    "print(\"The training R squared and test R squared are: \", training_R_sqr , \",\", test_R_sqr)\n",
    "print(\"This model uses \",nr_of_coeff,\"features. They're listed below:\")\n",
    "for i in range(len(lasso.coef_)):\n",
    "    if lasso.coef_[i] != 0:\n",
    "        print(i)"
   ]
  },
  {
   "cell_type": "code",
   "execution_count": 80,
   "metadata": {},
   "outputs": [],
   "source": [
    "#These positions correspond to the favourites batting sr form."
   ]
  },
  {
   "cell_type": "markdown",
   "metadata": {},
   "source": [
    "# PCA dimentionality reduction to visualise the data in 2D"
   ]
  },
  {
   "cell_type": "code",
   "execution_count": 81,
   "metadata": {},
   "outputs": [
    {
     "data": {
      "text/plain": [
       "PCA(copy=True, iterated_power='auto', n_components=2, random_state=None,\n",
       "    svd_solver='auto', tol=0.0, whiten=False)"
      ]
     },
     "execution_count": 81,
     "metadata": {},
     "output_type": "execute_result"
    }
   ],
   "source": [
    "from sklearn.decomposition import PCA\n",
    "pca = PCA(n_components=2)\n",
    "pca.fit(X)"
   ]
  },
  {
   "cell_type": "code",
   "execution_count": 82,
   "metadata": {},
   "outputs": [],
   "source": [
    "X_pca = pca.transform(X)"
   ]
  },
  {
   "cell_type": "code",
   "execution_count": 83,
   "metadata": {
    "scrolled": true
   },
   "outputs": [
    {
     "data": {
      "text/plain": [
       "<matplotlib.collections.PathCollection at 0x7fa1ac719f60>"
      ]
     },
     "execution_count": 83,
     "metadata": {},
     "output_type": "execute_result"
    },
    {
     "data": {
      "image/png": "[encoded data removed]",
      "text/plain": [
       "<Figure size 432x288 with 1 Axes>"
      ]
     },
     "metadata": {
      "needs_background": "light"
     },
     "output_type": "display_data"
    }
   ],
   "source": [
    "import matplotlib.pyplot as plt\n",
    "plt.scatter(X_pca[y==0][:,0],X_pca[y==0][:,1], color='r')\n",
    "plt.scatter(X_pca[y==1][:,0], X_pca[y==1][:,1], color='b')"
   ]
  },
  {
   "cell_type": "markdown",
   "metadata": {},
   "source": [
    "# Looking into how form affects results"
   ]
  },
  {
   "cell_type": "code",
   "execution_count": 85,
   "metadata": {},
   "outputs": [
    {
     "data": {
      "image/png": "[encoded data removed]",
      "text/plain": [
       "<Figure size 432x288 with 1 Axes>"
      ]
     },
     "metadata": {
      "needs_background": "light"
     },
     "output_type": "display_data"
    },
    {
     "data": {
      "image/png": "[encoded data removed]",
      "text/plain": [
       "<Figure size 432x288 with 1 Axes>"
      ]
     },
     "metadata": {
      "needs_background": "light"
     },
     "output_type": "display_data"
    },
    {
     "data": {
      "image/png": "[encoded data removed]",
      "text/plain": [
       "<Figure size 432x288 with 1 Axes>"
      ]
     },
     "metadata": {
      "needs_background": "light"
     },
     "output_type": "display_data"
    },
    {
     "data": {
      "image/png": "[encoded data removed]",
      "text/plain": [
       "<Figure size 432x288 with 1 Axes>"
      ]
     },
     "metadata": {
      "needs_background": "light"
     },
     "output_type": "display_data"
    },
    {
     "data": {
      "image/png": "[encoded data removed]",
      "text/plain": [
       "<Figure size 432x288 with 1 Axes>"
      ]
     },
     "metadata": {
      "needs_background": "light"
     },
     "output_type": "display_data"
    },
    {
     "data": {
      "image/png": "[encoded data removed]",
      "text/plain": [
       "<Figure size 432x288 with 1 Axes>"
      ]
     },
     "metadata": {
      "needs_background": "light"
     },
     "output_type": "display_data"
    },
    {
     "data": {
      "image/png": "[encoded data removed]",
      "text/plain": [
       "<Figure size 432x288 with 1 Axes>"
      ]
     },
     "metadata": {
      "needs_background": "light"
     },
     "output_type": "display_data"
    },
    {
     "data": {
      "image/png": "[encoded data removed]",
      "text/plain": [
       "<Figure size 432x288 with 1 Axes>"
      ]
     },
     "metadata": {
      "needs_background": "light"
     },
     "output_type": "display_data"
    }
   ],
   "source": [
    "for i in range(form_scores.shape[1]):\n",
    "    plt.scatter(form_scores[y==0][:,i],form_scores_other[y==0][:,i])\n",
    "    plt.scatter(form_scores[y==1][:,i],form_scores_other[y==1][:,i])\n",
    "    plt.show()"
   ]
  },
  {
   "cell_type": "code",
   "execution_count": 88,
   "metadata": {},
   "outputs": [
    {
     "name": "stdout",
     "output_type": "stream",
     "text": [
      "[0 0 0 0 1 1 1 0 1 1 0 0 1 1 0 0 0 1 1 0 0 0 1 0]\n",
      "[1 0 0 1 1 1 1 0 1 1 0 0 1 1 0 0 0 0 1 0 0 0 0 0]\n",
      "[0 0 0 1 1 0 1 0 1 1 0 0 1 1 0 0 1 0 1 0 0 0 0 0]\n",
      "[0 0 0 0 1 1 1 0 1 1 0 0 1 1 0 0 0 1 1 0 0 0 0 0]\n",
      "[1 0 0 1 1 0 1 0 1 1 0 0 1 1 0 0 0 0 1 0 0 0 0 0]\n",
      "[1 0 0 0 1 1 1 0 1 1 0 0 1 1 0 0 0 0 1 0 0 0 0 0]\n",
      "[0 0 0 0 1 0 1 0 1 1 0 0 1 1 0 0 0 0 1 0 0 0 0 0]\n",
      "[1 0 0 1 1 0 1 0 1 1 0 0 1 1 0 0 1 0 0 0 0 0 0 0]\n"
     ]
    }
   ],
   "source": [
    "warnings.filterwarnings(\"ignore\")\n",
    "train_score = []\n",
    "test_score = []\n",
    "for i in range(8):\n",
    "    X = np.concatenate((form_scores[:,i].reshape(form_scores.shape[0],1),form_scores_other[:,i].reshape(form_scores.shape[0],1)),axis=1)\n",
    "    X_train, X_test, y_train, y_test = train_test_split(X, y, train_size=0.5, random_state=1504)\n",
    "    lr = LogisticRegression(class_weight='balanced',random_state=1504)\n",
    "    lr.fit(X_train, y_train)\n",
    "    train_score.append(lr.score(X_train,y_train))\n",
    "    test_score.append(lr.score(X_test,y_test))\n",
    "    print(lr.predict(X_test))\n",
    "warnings.filterwarnings(\"default\")    "
   ]
  },
  {
   "cell_type": "code",
   "execution_count": 89,
   "metadata": {},
   "outputs": [
    {
     "data": {
      "text/plain": [
       "[0.4166666666666667,\n",
       " 0.3333333333333333,\n",
       " 0.2916666666666667,\n",
       " 0.375,\n",
       " 0.2916666666666667,\n",
       " 0.2916666666666667,\n",
       " 0.2916666666666667,\n",
       " 0.20833333333333334]"
      ]
     },
     "execution_count": 89,
     "metadata": {},
     "output_type": "execute_result"
    }
   ],
   "source": [
    "test_score"
   ]
  },
  {
   "cell_type": "markdown",
   "metadata": {},
   "source": [
    "# Looking at just the first innings"
   ]
  },
  {
   "cell_type": "code",
   "execution_count": 90,
   "metadata": {},
   "outputs": [],
   "source": [
    "df = pd.read_csv('algo_data.csv')"
   ]
  },
  {
   "cell_type": "code",
   "execution_count": 91,
   "metadata": {},
   "outputs": [
    {
     "data": {
      "text/html": [
       "<div>\n",
       "<style scoped>\n",
       "    .dataframe tbody tr th:only-of-type {\n",
       "        vertical-align: middle;\n",
       "    }\n",
       "\n",
       "    .dataframe tbody tr th {\n",
       "        vertical-align: top;\n",
       "    }\n",
       "\n",
       "    .dataframe thead th {\n",
       "        text-align: right;\n",
       "    }\n",
       "</style>\n",
       "<table border=\"1\" class=\"dataframe\">\n",
       "  <thead>\n",
       "    <tr style=\"text-align: right;\">\n",
       "      <th></th>\n",
       "      <th>Fave</th>\n",
       "      <th>Other</th>\n",
       "      <th>form fave</th>\n",
       "      <th>form other</th>\n",
       "      <th>Stadium</th>\n",
       "      <th>Weather</th>\n",
       "      <th>Time</th>\n",
       "      <th>favourites odds</th>\n",
       "      <th>other odds</th>\n",
       "      <th>fave ave 1</th>\n",
       "      <th>...</th>\n",
       "      <th>other econ 2</th>\n",
       "      <th>other bsr 2</th>\n",
       "      <th>other econ 3</th>\n",
       "      <th>other bsr 3</th>\n",
       "      <th>other econ form</th>\n",
       "      <th>other wicket form</th>\n",
       "      <th>Fave 140+ sr</th>\n",
       "      <th>Other 140+ sr</th>\n",
       "      <th>fave bat 1st</th>\n",
       "      <th>bet</th>\n",
       "    </tr>\n",
       "  </thead>\n",
       "  <tbody>\n",
       "    <tr>\n",
       "      <th>0</th>\n",
       "      <td>PS</td>\n",
       "      <td>ST</td>\n",
       "      <td>nlxxx</td>\n",
       "      <td>wlxxx</td>\n",
       "      <td>Manuka</td>\n",
       "      <td>cloud</td>\n",
       "      <td>N</td>\n",
       "      <td>0.85</td>\n",
       "      <td>1.1</td>\n",
       "      <td>26.92</td>\n",
       "      <td>...</td>\n",
       "      <td>8.46</td>\n",
       "      <td>15.3</td>\n",
       "      <td>9.22</td>\n",
       "      <td>21.3</td>\n",
       "      <td>9.83</td>\n",
       "      <td>1.00</td>\n",
       "      <td>3</td>\n",
       "      <td>4</td>\n",
       "      <td>1</td>\n",
       "      <td>1</td>\n",
       "    </tr>\n",
       "    <tr>\n",
       "      <th>1</th>\n",
       "      <td>AS</td>\n",
       "      <td>BH</td>\n",
       "      <td>lwlxx</td>\n",
       "      <td>llxxx</td>\n",
       "      <td>BCG</td>\n",
       "      <td>cloud</td>\n",
       "      <td>N</td>\n",
       "      <td>0.80</td>\n",
       "      <td>1.1</td>\n",
       "      <td>26.58</td>\n",
       "      <td>...</td>\n",
       "      <td>8.28</td>\n",
       "      <td>24.0</td>\n",
       "      <td>8.93</td>\n",
       "      <td>16.5</td>\n",
       "      <td>6.59</td>\n",
       "      <td>2.50</td>\n",
       "      <td>2</td>\n",
       "      <td>1</td>\n",
       "      <td>0</td>\n",
       "      <td>1</td>\n",
       "    </tr>\n",
       "    <tr>\n",
       "      <th>2</th>\n",
       "      <td>ST</td>\n",
       "      <td>MR</td>\n",
       "      <td>wwlxx</td>\n",
       "      <td>llwxx</td>\n",
       "      <td>Manuka</td>\n",
       "      <td>cloud</td>\n",
       "      <td>N</td>\n",
       "      <td>0.70</td>\n",
       "      <td>1.3</td>\n",
       "      <td>29.44</td>\n",
       "      <td>...</td>\n",
       "      <td>8.27</td>\n",
       "      <td>16.5</td>\n",
       "      <td>6.51</td>\n",
       "      <td>23.4</td>\n",
       "      <td>7.39</td>\n",
       "      <td>2.33</td>\n",
       "      <td>4</td>\n",
       "      <td>2</td>\n",
       "      <td>0</td>\n",
       "      <td>0</td>\n",
       "    </tr>\n",
       "    <tr>\n",
       "      <th>3</th>\n",
       "      <td>MS</td>\n",
       "      <td>SS</td>\n",
       "      <td>nwwxx</td>\n",
       "      <td>wwlxx</td>\n",
       "      <td>Carrara</td>\n",
       "      <td>cloud</td>\n",
       "      <td>N</td>\n",
       "      <td>0.90</td>\n",
       "      <td>1.1</td>\n",
       "      <td>27.19</td>\n",
       "      <td>...</td>\n",
       "      <td>7.99</td>\n",
       "      <td>17.6</td>\n",
       "      <td>8.13</td>\n",
       "      <td>20.0</td>\n",
       "      <td>7.05</td>\n",
       "      <td>2.67</td>\n",
       "      <td>2</td>\n",
       "      <td>1</td>\n",
       "      <td>0</td>\n",
       "      <td>1</td>\n",
       "    </tr>\n",
       "    <tr>\n",
       "      <th>4</th>\n",
       "      <td>HH</td>\n",
       "      <td>BH</td>\n",
       "      <td>wlwwx</td>\n",
       "      <td>lllxx</td>\n",
       "      <td>BCG</td>\n",
       "      <td>fair</td>\n",
       "      <td>N</td>\n",
       "      <td>0.60</td>\n",
       "      <td>1.7</td>\n",
       "      <td>36.01</td>\n",
       "      <td>...</td>\n",
       "      <td>8.28</td>\n",
       "      <td>24.0</td>\n",
       "      <td>8.93</td>\n",
       "      <td>16.5</td>\n",
       "      <td>6.45</td>\n",
       "      <td>2.00</td>\n",
       "      <td>2</td>\n",
       "      <td>1</td>\n",
       "      <td>1</td>\n",
       "      <td>1</td>\n",
       "    </tr>\n",
       "  </tbody>\n",
       "</table>\n",
       "<p>5 rows × 53 columns</p>\n",
       "</div>"
      ],
      "text/plain": [
       "  Fave Other form fave form other  Stadium Weather Time  favourites odds  \\\n",
       "0   PS    ST     nlxxx      wlxxx   Manuka   cloud    N             0.85   \n",
       "1   AS    BH     lwlxx      llxxx      BCG   cloud    N             0.80   \n",
       "2   ST    MR     wwlxx      llwxx   Manuka   cloud    N             0.70   \n",
       "3   MS    SS     nwwxx      wwlxx  Carrara   cloud    N             0.90   \n",
       "4   HH    BH     wlwwx      lllxx      BCG    fair    N             0.60   \n",
       "\n",
       "   other odds  fave ave 1  ...  other econ 2  other bsr 2  other econ 3  \\\n",
       "0         1.1       26.92  ...          8.46         15.3          9.22   \n",
       "1         1.1       26.58  ...          8.28         24.0          8.93   \n",
       "2         1.3       29.44  ...          8.27         16.5          6.51   \n",
       "3         1.1       27.19  ...          7.99         17.6          8.13   \n",
       "4         1.7       36.01  ...          8.28         24.0          8.93   \n",
       "\n",
       "   other bsr 3  other econ form  other wicket form  Fave 140+ sr  \\\n",
       "0         21.3             9.83               1.00             3   \n",
       "1         16.5             6.59               2.50             2   \n",
       "2         23.4             7.39               2.33             4   \n",
       "3         20.0             7.05               2.67             2   \n",
       "4         16.5             6.45               2.00             2   \n",
       "\n",
       "   Other 140+ sr  fave bat 1st  bet  \n",
       "0              4             1    1  \n",
       "1              1             0    1  \n",
       "2              2             0    0  \n",
       "3              1             0    1  \n",
       "4              1             1    1  \n",
       "\n",
       "[5 rows x 53 columns]"
      ]
     },
     "execution_count": 91,
     "metadata": {},
     "output_type": "execute_result"
    }
   ],
   "source": [
    "df.head()"
   ]
  },
  {
   "cell_type": "code",
   "execution_count": 92,
   "metadata": {},
   "outputs": [],
   "source": [
    "Xbat = np.array(list(df.iloc[0,9:21]))\n",
    "for i in range(1,df.shape[0]):\n",
    "    if df.iloc[i,-2] == 1:\n",
    "        Xbat = np.vstack((Xbat, df.iloc[i,9:21]))\n",
    "    else:\n",
    "        Xbat = np.vstack((Xbat, df.iloc[i,21:33]))"
   ]
  },
  {
   "cell_type": "code",
   "execution_count": 93,
   "metadata": {},
   "outputs": [],
   "source": [
    "Xbowl = np.array(list(df.iloc[0,41:49]))\n",
    "for i in range(1,df.shape[0]):\n",
    "    if df.iloc[i,-2] == 1:\n",
    "        Xbowl= np.vstack((Xbowl, df.iloc[i,41:49]))\n",
    "    else:\n",
    "        Xbowl = np.vstack((Xbowl, df.iloc[i,33:41]))"
   ]
  },
  {
   "cell_type": "code",
   "execution_count": 94,
   "metadata": {},
   "outputs": [],
   "source": [
    "X = np.column_stack((Xbat,Xbowl))"
   ]
  },
  {
   "cell_type": "code",
   "execution_count": 95,
   "metadata": {},
   "outputs": [],
   "source": [
    "train_score = []\n",
    "test_score = []\n",
    "X_train, X_test, y_train, y_test = train_test_split(X, y, train_size=0.6, random_state=1504)\n",
    "pipe = make_pipeline(StandardScaler(), SVC(class_weight='balanced'))\n",
    "grid = GridSearchCV(pipe, param_grid=param_grid, cv=3, iid='True')\n",
    "grid.fit(X_train, y_train)\n",
    "train_score.append(grid.score(X_train,y_train))\n",
    "test_score.append(grid.score(X_test,y_test))"
   ]
  },
  {
   "cell_type": "code",
   "execution_count": 96,
   "metadata": {},
   "outputs": [
    {
     "data": {
      "text/plain": [
       "[0.6]"
      ]
     },
     "execution_count": 96,
     "metadata": {},
     "output_type": "execute_result"
    }
   ],
   "source": [
    "test_score"
   ]
  },
  {
   "cell_type": "markdown",
   "metadata": {},
   "source": [
    "### That didn't go well, going to turn the matrix into smaller 'scores' for batting and bowling"
   ]
  },
  {
   "cell_type": "code",
   "execution_count": 97,
   "metadata": {},
   "outputs": [],
   "source": [
    "Xbat_score=np.zeros((Xbat.shape[0],int(Xbat.shape[1]/2)))\n",
    "for i in range(0,Xbat.shape[1],2):\n",
    "    Xbat_score[:,int(i/2)] = Xbat[:,i]*Xbat[:,i+1]\n",
    "#This is multiplying all the aveages by the strike rates"
   ]
  },
  {
   "cell_type": "code",
   "execution_count": 98,
   "metadata": {},
   "outputs": [],
   "source": [
    "Xbat_score2=np.zeros((Xbat.shape[0],int(Xbat_score.shape[1]/2)))\n",
    "for i in range(0,Xbat_score.shape[1],2):\n",
    "    Xbat_score2[:,int(i/2)] = (Xbat_score[:,i]+Xbat_score[:,i+1])/2 "
   ]
  },
  {
   "cell_type": "code",
   "execution_count": 99,
   "metadata": {},
   "outputs": [],
   "source": [
    "Xbowl_score = np.zeros((Xbowl.shape[0],4))\n",
    "Xbowl_score[:,2] = Xbowl[:,6]\n",
    "Xbowl_score[:,3] = 36/(Xbowl[:,7]+0.0000001)\n",
    "for i in range(2):\n",
    "    Xbowl_score[:,i] = (Xbowl[:,i]+Xbowl[:,i+2]+Xbowl[:,i+4])/3"
   ]
  },
  {
   "cell_type": "code",
   "execution_count": 100,
   "metadata": {},
   "outputs": [],
   "source": [
    "Xbowl_score2 = np.concatenate(((Xbowl_score[:,0]*Xbowl_score[:,1]).reshape(Xbowl.shape[0],1),(Xbowl_score[:,2]*Xbowl_score[:,3]).reshape(Xbowl.shape[0],1)),axis=1)"
   ]
  },
  {
   "cell_type": "code",
   "execution_count": 101,
   "metadata": {},
   "outputs": [],
   "source": [
    "Xbowl_score3 = np.sum(Xbowl_score2, axis=1)"
   ]
  },
  {
   "cell_type": "code",
   "execution_count": 102,
   "metadata": {},
   "outputs": [],
   "source": [
    "batting=(Xbat_score,Xbat_score2)\n",
    "bowling=(Xbowl_score,Xbowl_score2,Xbowl_score3)"
   ]
  },
  {
   "cell_type": "code",
   "execution_count": 103,
   "metadata": {},
   "outputs": [
    {
     "name": "stdout",
     "output_type": "stream",
     "text": [
      "0.3333333333333333\n",
      "1\n",
      "2\n"
     ]
    }
   ],
   "source": [
    "best_score = 0\n",
    "bat = np.nan\n",
    "bowl = np.nan\n",
    "for i in range(2):\n",
    "    for j in range(3):\n",
    "        X = np.column_stack((batting[i],bowling[j]))\n",
    "        X_train, X_test, y_train, y_test = train_test_split(X, y, train_size=0.7, random_state=1504)\n",
    "        pipe = make_pipeline(StandardScaler(), SVC(class_weight='balanced'))\n",
    "        grid = GridSearchCV(pipe, param_grid=param_grid, cv=3, iid='True')\n",
    "        grid.fit(X_train, y_train)\n",
    "        if best_score < grid.score(X_test,y_test):\n",
    "            best_score = grid.score(X_test,y_test)\n",
    "            bat = i\n",
    "            bowl = j\n",
    "            \n",
    "print(best_score)\n",
    "print(i)\n",
    "print(j)"
   ]
  },
  {
   "cell_type": "code",
   "execution_count": 609,
   "metadata": {},
   "outputs": [],
   "source": [
    "# It kind of seems like the more data I give it the better."
   ]
  }
 ],
 "metadata": {
  "kernelspec": {
   "display_name": "Python 3",
   "language": "python",
   "name": "python3"
  },
  "language_info": {
   "codemirror_mode": {
    "name": "ipython",
    "version": 3
   },
   "file_extension": ".py",
   "mimetype": "text/x-python",
   "name": "python",
   "nbconvert_exporter": "python",
   "pygments_lexer": "ipython3",
   "version": "3.7.3"
  }
 },
 "nbformat": 4,
 "nbformat_minor": 2
}
